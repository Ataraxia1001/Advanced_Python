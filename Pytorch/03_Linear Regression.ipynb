{
 "cells": [
  {
   "cell_type": "code",
   "execution_count": 3,
   "metadata": {},
   "outputs": [
    {
     "data": {
      "image/png": "[encoded data removed]",
      "text/plain": [
       "<Figure size 640x480 with 1 Axes>"
      ]
     },
     "metadata": {},
     "output_type": "display_data"
    }
   ],
   "source": [
    "import numpy as np\n",
    "import matplotlib.pyplot as plt\n",
    "%matplotlib inline\n",
    "\n",
    "# Creates 50 random x and y numbers\n",
    "np.random.seed(1)\n",
    "n = 50\n",
    "x = np.random.randn(n)\n",
    "y = x * np.random.randn(n)\n",
    "\n",
    "# Makes the dots colorful\n",
    "colors = np.random.rand(n)\n",
    "\n",
    "# Plots best-fit line via polyfit\n",
    "plt.plot(np.unique(x), np.poly1d(np.polyfit(x, y, 1))(np.unique(x)))\n",
    "\n",
    "# Plots the random x and y data points we created\n",
    "# Interestingly, alpha makes it more aesthetically pleasing\n",
    "plt.scatter(x, y, c=colors, alpha=0.5)\n",
    "plt.show()"
   ]
  },
  {
   "cell_type": "code",
   "execution_count": 1,
   "metadata": {},
   "outputs": [
    {
     "data": {
      "text/plain": [
       "[0, 1, 2, 3, 4, 5, 6, 7, 8, 9, 10]"
      ]
     },
     "execution_count": 1,
     "metadata": {},
     "output_type": "execute_result"
    }
   ],
   "source": [
    "x_values = [i for i in range(11)]\n",
    "\n",
    "x_values"
   ]
  },
  {
   "cell_type": "code",
   "execution_count": 4,
   "metadata": {},
   "outputs": [
    {
     "data": {
      "text/plain": [
       "(11,)"
      ]
     },
     "execution_count": 4,
     "metadata": {},
     "output_type": "execute_result"
    }
   ],
   "source": [
    "# Convert to numpy\n",
    "x_train = np.array(x_values, dtype=np.float32)\n",
    "x_train.shape"
   ]
  },
  {
   "cell_type": "code",
   "execution_count": 5,
   "metadata": {},
   "outputs": [
    {
     "data": {
      "text/plain": [
       "(11, 1)"
      ]
     },
     "execution_count": 5,
     "metadata": {},
     "output_type": "execute_result"
    }
   ],
   "source": [
    "# IMPORTANT: 2D required\n",
    "x_train = x_train.reshape(-1, 1)\n",
    "x_train.shape"
   ]
  },
  {
   "cell_type": "code",
   "execution_count": 6,
   "metadata": {},
   "outputs": [
    {
     "data": {
      "text/plain": [
       "array([[ 0.],\n",
       "       [ 1.],\n",
       "       [ 2.],\n",
       "       [ 3.],\n",
       "       [ 4.],\n",
       "       [ 5.],\n",
       "       [ 6.],\n",
       "       [ 7.],\n",
       "       [ 8.],\n",
       "       [ 9.],\n",
       "       [10.]], dtype=float32)"
      ]
     },
     "execution_count": 6,
     "metadata": {},
     "output_type": "execute_result"
    }
   ],
   "source": [
    "x_train"
   ]
  },
  {
   "cell_type": "code",
   "execution_count": 7,
   "metadata": {},
   "outputs": [
    {
     "data": {
      "text/plain": [
       "[1, 3, 5, 7, 9, 11, 13, 15, 17, 19, 21]"
      ]
     },
     "execution_count": 7,
     "metadata": {},
     "output_type": "execute_result"
    }
   ],
   "source": [
    "y_values = [2*i + 1 for i in x_values]\n",
    "\n",
    "y_values"
   ]
  },
  {
   "cell_type": "code",
   "execution_count": 8,
   "metadata": {},
   "outputs": [
    {
     "data": {
      "text/plain": [
       "(11,)"
      ]
     },
     "execution_count": 8,
     "metadata": {},
     "output_type": "execute_result"
    }
   ],
   "source": [
    "y_train = np.array(y_values, dtype=np.float32)\n",
    "y_train.shape"
   ]
  },
  {
   "cell_type": "code",
   "execution_count": 9,
   "metadata": {},
   "outputs": [
    {
     "data": {
      "text/plain": [
       "(11, 1)"
      ]
     },
     "execution_count": 9,
     "metadata": {},
     "output_type": "execute_result"
    }
   ],
   "source": [
    "# IMPORTANT: 2D required\n",
    "y_train = y_train.reshape(-1, 1)\n",
    "y_train.shape"
   ]
  },
  {
   "cell_type": "code",
   "execution_count": 10,
   "metadata": {},
   "outputs": [],
   "source": [
    "import torch\n",
    "import torch.nn as nn"
   ]
  },
  {
   "cell_type": "code",
   "execution_count": 11,
   "metadata": {},
   "outputs": [],
   "source": [
    "# Create class\n",
    "class LinearRegressionModel(nn.Module):\n",
    "    def __init__(self, input_dim, output_dim):\n",
    "        super(LinearRegressionModel, self).__init__()\n",
    "        self.linear = nn.Linear(input_dim, output_dim)  \n",
    "\n",
    "    def forward(self, x):\n",
    "        out = self.linear(x)\n",
    "        return out"
   ]
  },
  {
   "cell_type": "code",
   "execution_count": 12,
   "metadata": {},
   "outputs": [],
   "source": [
    "input_dim = 1\n",
    "output_dim = 1\n",
    "\n",
    "model = LinearRegressionModel(input_dim, output_dim)"
   ]
  },
  {
   "cell_type": "code",
   "execution_count": 13,
   "metadata": {},
   "outputs": [],
   "source": [
    "criterion = nn.MSELoss()"
   ]
  },
  {
   "cell_type": "code",
   "execution_count": 14,
   "metadata": {},
   "outputs": [],
   "source": [
    "learning_rate = 0.01\n",
    "\n",
    "optimizer = torch.optim.SGD(model.parameters(), lr=learning_rate)"
   ]
  },
  {
   "cell_type": "code",
   "execution_count": 17,
   "metadata": {},
   "outputs": [
    {
     "name": "stdout",
     "output_type": "stream",
     "text": [
      "epoch 1, loss 1.5593505653388462e-11\n",
      "epoch 2, loss 1.5593505653388462e-11\n",
      "epoch 3, loss 1.5593505653388462e-11\n",
      "epoch 4, loss 1.5593505653388462e-11\n",
      "epoch 5, loss 1.5593505653388462e-11\n",
      "epoch 6, loss 1.5593505653388462e-11\n",
      "epoch 7, loss 1.5593505653388462e-11\n",
      "epoch 8, loss 1.5593505653388462e-11\n",
      "epoch 9, loss 1.5593505653388462e-11\n",
      "epoch 10, loss 1.5593505653388462e-11\n",
      "epoch 11, loss 1.5593505653388462e-11\n",
      "epoch 12, loss 1.5593505653388462e-11\n",
      "epoch 13, loss 1.5593505653388462e-11\n",
      "epoch 14, loss 1.5593505653388462e-11\n",
      "epoch 15, loss 1.5593505653388462e-11\n",
      "epoch 16, loss 1.5593505653388462e-11\n",
      "epoch 17, loss 1.5593505653388462e-11\n",
      "epoch 18, loss 1.5593505653388462e-11\n",
      "epoch 19, loss 1.5593505653388462e-11\n",
      "epoch 20, loss 1.5593505653388462e-11\n",
      "epoch 21, loss 1.5593505653388462e-11\n",
      "epoch 22, loss 1.5593505653388462e-11\n",
      "epoch 23, loss 1.5593505653388462e-11\n",
      "epoch 24, loss 1.5593505653388462e-11\n",
      "epoch 25, loss 1.5593505653388462e-11\n",
      "epoch 26, loss 1.5593505653388462e-11\n",
      "epoch 27, loss 1.5593505653388462e-11\n",
      "epoch 28, loss 1.5593505653388462e-11\n",
      "epoch 29, loss 1.5593505653388462e-11\n",
      "epoch 30, loss 1.5593505653388462e-11\n",
      "epoch 31, loss 1.5593505653388462e-11\n",
      "epoch 32, loss 1.5593505653388462e-11\n",
      "epoch 33, loss 1.5593505653388462e-11\n",
      "epoch 34, loss 1.5593505653388462e-11\n",
      "epoch 35, loss 1.5593505653388462e-11\n",
      "epoch 36, loss 1.5593505653388462e-11\n",
      "epoch 37, loss 1.5593505653388462e-11\n",
      "epoch 38, loss 1.5593505653388462e-11\n",
      "epoch 39, loss 1.5593505653388462e-11\n",
      "epoch 40, loss 1.5593505653388462e-11\n",
      "epoch 41, loss 1.5593505653388462e-11\n",
      "epoch 42, loss 1.5593505653388462e-11\n",
      "epoch 43, loss 1.5593505653388462e-11\n",
      "epoch 44, loss 1.5593505653388462e-11\n",
      "epoch 45, loss 1.5593505653388462e-11\n",
      "epoch 46, loss 1.5593505653388462e-11\n",
      "epoch 47, loss 1.5593505653388462e-11\n",
      "epoch 48, loss 1.5593505653388462e-11\n",
      "epoch 49, loss 1.5593505653388462e-11\n",
      "epoch 50, loss 1.5593505653388462e-11\n",
      "epoch 51, loss 1.5593505653388462e-11\n",
      "epoch 52, loss 1.5593505653388462e-11\n",
      "epoch 53, loss 1.5593505653388462e-11\n",
      "epoch 54, loss 1.5593505653388462e-11\n",
      "epoch 55, loss 1.5593505653388462e-11\n",
      "epoch 56, loss 1.5593505653388462e-11\n",
      "epoch 57, loss 1.5593505653388462e-11\n",
      "epoch 58, loss 1.5593505653388462e-11\n",
      "epoch 59, loss 1.5593505653388462e-11\n",
      "epoch 60, loss 1.5593505653388462e-11\n",
      "epoch 61, loss 1.5593505653388462e-11\n",
      "epoch 62, loss 1.5593505653388462e-11\n",
      "epoch 63, loss 1.5593505653388462e-11\n",
      "epoch 64, loss 1.5593505653388462e-11\n",
      "epoch 65, loss 1.5593505653388462e-11\n",
      "epoch 66, loss 1.5593505653388462e-11\n",
      "epoch 67, loss 1.5593505653388462e-11\n",
      "epoch 68, loss 1.5593505653388462e-11\n",
      "epoch 69, loss 1.5593505653388462e-11\n",
      "epoch 70, loss 1.5593505653388462e-11\n",
      "epoch 71, loss 1.5593505653388462e-11\n",
      "epoch 72, loss 1.5593505653388462e-11\n",
      "epoch 73, loss 1.5593505653388462e-11\n",
      "epoch 74, loss 1.5593505653388462e-11\n",
      "epoch 75, loss 1.5593505653388462e-11\n",
      "epoch 76, loss 1.5593505653388462e-11\n",
      "epoch 77, loss 1.5593505653388462e-11\n",
      "epoch 78, loss 1.5593505653388462e-11\n",
      "epoch 79, loss 1.5593505653388462e-11\n",
      "epoch 80, loss 1.5593505653388462e-11\n",
      "epoch 81, loss 1.5593505653388462e-11\n",
      "epoch 82, loss 1.5593505653388462e-11\n",
      "epoch 83, loss 1.5593505653388462e-11\n",
      "epoch 84, loss 1.5593505653388462e-11\n",
      "epoch 85, loss 1.5593505653388462e-11\n",
      "epoch 86, loss 1.5593505653388462e-11\n",
      "epoch 87, loss 1.5593505653388462e-11\n",
      "epoch 88, loss 1.5593505653388462e-11\n",
      "epoch 89, loss 1.5593505653388462e-11\n",
      "epoch 90, loss 1.5593505653388462e-11\n",
      "epoch 91, loss 1.5593505653388462e-11\n",
      "epoch 92, loss 1.5593505653388462e-11\n",
      "epoch 93, loss 1.5593505653388462e-11\n",
      "epoch 94, loss 1.5593505653388462e-11\n",
      "epoch 95, loss 1.5593505653388462e-11\n",
      "epoch 96, loss 1.5593505653388462e-11\n",
      "epoch 97, loss 1.5593505653388462e-11\n",
      "epoch 98, loss 1.5593505653388462e-11\n",
      "epoch 99, loss 1.5593505653388462e-11\n",
      "epoch 100, loss 1.5593505653388462e-11\n"
     ]
    }
   ],
   "source": [
    "epochs = 100\n",
    "\n",
    "for epoch in range(epochs):\n",
    "    epoch += 1\n",
    "    # Convert numpy array to torch Variable\n",
    "    inputs = torch.from_numpy(x_train).requires_grad_()\n",
    "    labels = torch.from_numpy(y_train)\n",
    "\n",
    "    # Clear gradients w.r.t. parameters\n",
    "    optimizer.zero_grad() \n",
    "\n",
    "    # Forward to get output\n",
    "    outputs = model(inputs)\n",
    "\n",
    "    # Calculate Loss\n",
    "    loss = criterion(outputs, labels)\n",
    "\n",
    "    # Getting gradients w.r.t. parameters\n",
    "    loss.backward()\n",
    "\n",
    "    # Updating parameters\n",
    "    optimizer.step()\n",
    "\n",
    "    print('epoch {}, loss {}'.format(epoch, loss.item()))"
   ]
  },
  {
   "cell_type": "code",
   "execution_count": 18,
   "metadata": {},
   "outputs": [
    {
     "data": {
      "text/plain": [
       "array([[ 0.99999267],\n",
       "       [ 2.9999938 ],\n",
       "       [ 4.999995  ],\n",
       "       [ 6.9999967 ],\n",
       "       [ 8.999997  ],\n",
       "       [10.999998  ],\n",
       "       [13.        ],\n",
       "       [15.000001  ],\n",
       "       [17.000002  ],\n",
       "       [19.000004  ],\n",
       "       [21.000004  ]], dtype=float32)"
      ]
     },
     "execution_count": 18,
     "metadata": {},
     "output_type": "execute_result"
    }
   ],
   "source": [
    "# Purely inference\n",
    "predicted = model(torch.from_numpy(x_train).requires_grad_()).data.numpy()\n",
    "predicted"
   ]
  },
  {
   "cell_type": "code",
   "execution_count": 19,
   "metadata": {},
   "outputs": [
    {
     "data": {
      "text/plain": [
       "array([[ 1.],\n",
       "       [ 3.],\n",
       "       [ 5.],\n",
       "       [ 7.],\n",
       "       [ 9.],\n",
       "       [11.],\n",
       "       [13.],\n",
       "       [15.],\n",
       "       [17.],\n",
       "       [19.],\n",
       "       [21.]], dtype=float32)"
      ]
     },
     "execution_count": 19,
     "metadata": {},
     "output_type": "execute_result"
    }
   ],
   "source": [
    "# y = 2x + 1 \n",
    "y_train"
   ]
  },
  {
   "cell_type": "code",
   "execution_count": 20,
   "metadata": {},
   "outputs": [
    {
     "data": {
      "image/png": "[encoded data removed]",
      "text/plain": [
       "<Figure size 640x480 with 1 Axes>"
      ]
     },
     "metadata": {},
     "output_type": "display_data"
    }
   ],
   "source": [
    "# Clear figure\n",
    "plt.clf()\n",
    "\n",
    "# Get predictions\n",
    "predicted = model(torch.from_numpy(x_train).requires_grad_()).data.numpy()\n",
    "\n",
    "# Plot true data\n",
    "plt.plot(x_train, y_train, 'go', label='True data', alpha=0.5)\n",
    "\n",
    "# Plot predictions\n",
    "plt.plot(x_train, predicted, '--', label='Predictions', alpha=0.5)\n",
    "\n",
    "# Legend and plot\n",
    "plt.legend(loc='best')\n",
    "plt.show()"
   ]
  },
  {
   "cell_type": "code",
   "execution_count": 21,
   "metadata": {},
   "outputs": [
    {
     "name": "stdout",
     "output_type": "stream",
     "text": [
      "epoch 1, loss 284.3841857910156\n",
      "epoch 2, loss 23.35129737854004\n",
      "epoch 3, loss 2.0579373836517334\n",
      "epoch 4, loss 0.3193937838077545\n",
      "epoch 5, loss 0.17589426040649414\n",
      "epoch 6, loss 0.1625160425901413\n",
      "epoch 7, loss 0.15977026522159576\n",
      "epoch 8, loss 0.1579103022813797\n",
      "epoch 9, loss 0.15614068508148193\n",
      "epoch 10, loss 0.15439650416374207\n",
      "epoch 11, loss 0.15267252922058105\n",
      "epoch 12, loss 0.1509675234556198\n",
      "epoch 13, loss 0.14928174018859863\n",
      "epoch 14, loss 0.14761467278003693\n",
      "epoch 15, loss 0.14596624672412872\n",
      "epoch 16, loss 0.1443362981081009\n",
      "epoch 17, loss 0.14272460341453552\n",
      "epoch 18, loss 0.14113080501556396\n",
      "epoch 19, loss 0.1395546942949295\n",
      "epoch 20, loss 0.13799633085727692\n",
      "epoch 21, loss 0.13645553588867188\n",
      "epoch 22, loss 0.13493163883686066\n",
      "epoch 23, loss 0.13342486321926117\n",
      "epoch 24, loss 0.13193494081497192\n",
      "epoch 25, loss 0.13046161830425262\n",
      "epoch 26, loss 0.1290048062801361\n",
      "epoch 27, loss 0.12756426632404327\n",
      "epoch 28, loss 0.12613967061042786\n",
      "epoch 29, loss 0.12473113089799881\n",
      "epoch 30, loss 0.12333834171295166\n",
      "epoch 31, loss 0.12196101248264313\n",
      "epoch 32, loss 0.12059904634952545\n",
      "epoch 33, loss 0.11925240606069565\n",
      "epoch 34, loss 0.11792071908712387\n",
      "epoch 35, loss 0.11660388857126236\n",
      "epoch 36, loss 0.11530175060033798\n",
      "epoch 37, loss 0.11401423066854477\n",
      "epoch 38, loss 0.11274108290672302\n",
      "epoch 39, loss 0.11148202419281006\n",
      "epoch 40, loss 0.11023714393377304\n",
      "epoch 41, loss 0.10900620371103287\n",
      "epoch 42, loss 0.10778895765542984\n",
      "epoch 43, loss 0.1065853014588356\n",
      "epoch 44, loss 0.10539504140615463\n",
      "epoch 45, loss 0.10421812534332275\n",
      "epoch 46, loss 0.1030542254447937\n",
      "epoch 47, loss 0.1019035205245018\n",
      "epoch 48, loss 0.10076560080051422\n",
      "epoch 49, loss 0.09964033216238022\n",
      "epoch 50, loss 0.0985277071595192\n",
      "epoch 51, loss 0.09742741286754608\n",
      "epoch 52, loss 0.0963396281003952\n",
      "epoch 53, loss 0.09526374191045761\n",
      "epoch 54, loss 0.09419995546340942\n",
      "epoch 55, loss 0.09314796328544617\n",
      "epoch 56, loss 0.09210781008005142\n",
      "epoch 57, loss 0.09107927232980728\n",
      "epoch 58, loss 0.090062215924263\n",
      "epoch 59, loss 0.08905650675296783\n",
      "epoch 60, loss 0.08806201815605164\n",
      "epoch 61, loss 0.08707862347364426\n",
      "epoch 62, loss 0.0861063003540039\n",
      "epoch 63, loss 0.0851447731256485\n",
      "epoch 64, loss 0.0841938853263855\n",
      "epoch 65, loss 0.08325368165969849\n",
      "epoch 66, loss 0.08232412487268448\n",
      "epoch 67, loss 0.0814046710729599\n",
      "epoch 68, loss 0.08049572259187698\n",
      "epoch 69, loss 0.07959678769111633\n",
      "epoch 70, loss 0.07870796322822571\n",
      "epoch 71, loss 0.07782905548810959\n",
      "epoch 72, loss 0.07696002721786499\n",
      "epoch 73, loss 0.0761006698012352\n",
      "epoch 74, loss 0.07525072246789932\n",
      "epoch 75, loss 0.07441047579050064\n",
      "epoch 76, loss 0.07357952743768692\n",
      "epoch 77, loss 0.07275787740945816\n",
      "epoch 78, loss 0.07194538414478302\n",
      "epoch 79, loss 0.07114199548959732\n",
      "epoch 80, loss 0.07034759223461151\n",
      "epoch 81, loss 0.06956200301647186\n",
      "epoch 82, loss 0.06878520548343658\n",
      "epoch 83, loss 0.06801712512969971\n",
      "epoch 84, loss 0.06725757569074631\n",
      "epoch 85, loss 0.06650650501251221\n",
      "epoch 86, loss 0.06576379388570786\n",
      "epoch 87, loss 0.06502947956323624\n",
      "epoch 88, loss 0.06430326402187347\n",
      "epoch 89, loss 0.06358522921800613\n",
      "epoch 90, loss 0.06287523359060287\n",
      "epoch 91, loss 0.06217304244637489\n",
      "epoch 92, loss 0.06147879362106323\n",
      "epoch 93, loss 0.06079230085015297\n",
      "epoch 94, loss 0.06011345982551575\n",
      "epoch 95, loss 0.05944215878844261\n",
      "epoch 96, loss 0.058778345584869385\n",
      "epoch 97, loss 0.058121949434280396\n",
      "epoch 98, loss 0.057472940534353256\n",
      "epoch 99, loss 0.05683114379644394\n",
      "epoch 100, loss 0.056196510791778564\n"
     ]
    }
   ],
   "source": [
    "import torch\n",
    "import torch.nn as nn\n",
    "import numpy as np\n",
    "\n",
    "'''\n",
    "STEP 1: CREATE MODEL CLASS\n",
    "'''\n",
    "class LinearRegressionModel(nn.Module):\n",
    "    def __init__(self, input_dim, output_dim):\n",
    "        super(LinearRegressionModel, self).__init__()\n",
    "        self.linear = nn.Linear(input_dim, output_dim)  \n",
    "\n",
    "    def forward(self, x):\n",
    "        out = self.linear(x)\n",
    "        return out\n",
    "\n",
    "'''\n",
    "STEP 2: INSTANTIATE MODEL CLASS\n",
    "'''\n",
    "input_dim = 1\n",
    "output_dim = 1\n",
    "\n",
    "model = LinearRegressionModel(input_dim, output_dim)\n",
    "\n",
    "\n",
    "#######################\n",
    "#  USE GPU FOR MODEL  #\n",
    "#######################\n",
    "\n",
    "device = torch.device(\"cuda:0\" if torch.cuda.is_available() else \"cpu\")\n",
    "model.to(device)\n",
    "\n",
    "'''\n",
    "STEP 3: INSTANTIATE LOSS CLASS\n",
    "'''\n",
    "\n",
    "criterion = nn.MSELoss()\n",
    "\n",
    "'''\n",
    "STEP 4: INSTANTIATE OPTIMIZER CLASS\n",
    "'''\n",
    "\n",
    "learning_rate = 0.01\n",
    "\n",
    "optimizer = torch.optim.SGD(model.parameters(), lr=learning_rate)\n",
    "\n",
    "'''\n",
    "STEP 5: TRAIN THE MODEL\n",
    "'''\n",
    "epochs = 100\n",
    "for epoch in range(epochs):\n",
    "    epoch += 1\n",
    "    # Convert numpy array to torch Variable\n",
    "\n",
    "    #######################\n",
    "    #  USE GPU FOR MODEL  #\n",
    "    #######################\n",
    "    inputs = torch.from_numpy(x_train).to(device)\n",
    "    labels = torch.from_numpy(y_train).to(device)\n",
    "\n",
    "    # Clear gradients w.r.t. parameters\n",
    "    optimizer.zero_grad() \n",
    "\n",
    "    # Forward to get output\n",
    "    outputs = model(inputs)\n",
    "\n",
    "    # Calculate Loss\n",
    "    loss = criterion(outputs, labels)\n",
    "\n",
    "    # Getting gradients w.r.t. parameters\n",
    "    loss.backward()\n",
    "\n",
    "    # Updating parameters\n",
    "    optimizer.step()\n",
    "\n",
    "    # Logging\n",
    "    print('epoch {}, loss {}'.format(epoch, loss.item()))"
   ]
  },
  {
   "cell_type": "code",
   "execution_count": null,
   "metadata": {},
   "outputs": [],
   "source": []
  },
  {
   "cell_type": "code",
   "execution_count": null,
   "metadata": {},
   "outputs": [],
   "source": []
  },
  {
   "cell_type": "code",
   "execution_count": null,
   "metadata": {},
   "outputs": [],
   "source": []
  },
  {
   "cell_type": "code",
   "execution_count": null,
   "metadata": {},
   "outputs": [],
   "source": []
  },
  {
   "cell_type": "code",
   "execution_count": null,
   "metadata": {},
   "outputs": [],
   "source": []
  }
 ],
 "metadata": {
  "kernelspec": {
   "display_name": "auto",
   "language": "python",
   "name": "python3"
  },
  "language_info": {
   "codemirror_mode": {
    "name": "ipython",
    "version": 3
   },
   "file_extension": ".py",
   "mimetype": "text/x-python",
   "name": "python",
   "nbconvert_exporter": "python",
   "pygments_lexer": "ipython3",
   "version": "3.10.14"
  }
 },
 "nbformat": 4,
 "nbformat_minor": 2
}
