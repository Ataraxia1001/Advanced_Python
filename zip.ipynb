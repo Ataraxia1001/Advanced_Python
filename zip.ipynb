{
 "cells": [
  {
   "cell_type": "code",
   "execution_count": 3,
   "metadata": {},
   "outputs": [
    {
     "name": "stdout",
     "output_type": "stream",
     "text": [
      "(('John', 'Jenny'), ('Charles', 'Christy'), ('Mike', 'Monica'))\n"
     ]
    }
   ],
   "source": [
    "a = (\"John\", \"Charles\", \"Mike\")\n",
    "b = (\"Jenny\", \"Christy\", \"Monica\", \"Vicky\")\n",
    "\n",
    "x = zip(a, b)\n",
    "\n",
    "#use the tuple() function to display a readable version of the result:\n",
    "\n",
    "print(tuple(x))\n"
   ]
  },
  {
   "cell_type": "code",
   "execution_count": 5,
   "metadata": {},
   "outputs": [
    {
     "name": "stdout",
     "output_type": "stream",
     "text": [
      "{'John': 'Jenny', 'Charles': 'Christy', 'Mike': 'Monica'}\n"
     ]
    }
   ],
   "source": [
    "a = [\"John\", \"Charles\", \"Mike\"]\n",
    "b = [\"Jenny\", \"Christy\", \"Monica\", \"Vicky\"]\n",
    "\n",
    "x = zip(a, b)\n",
    "\n",
    "#use the tuple() functppyion to display a readable version of the result:\n",
    "\n",
    "\n",
    "print(dict(x))"
   ]
  },
  {
   "cell_type": "code",
   "execution_count": null,
   "metadata": {},
   "outputs": [],
   "source": []
  }
 ],
 "metadata": {
  "kernelspec": {
   "display_name": "jjy",
   "language": "python",
   "name": "python3"
  },
  "language_info": {
   "codemirror_mode": {
    "name": "ipython",
    "version": 3
   },
   "file_extension": ".py",
   "mimetype": "text/x-python",
   "name": "python",
   "nbconvert_exporter": "python",
   "pygments_lexer": "ipython3",
   "version": "3.8.17"
  },
  "orig_nbformat": 4
 },
 "nbformat": 4,
 "nbformat_minor": 2
}
