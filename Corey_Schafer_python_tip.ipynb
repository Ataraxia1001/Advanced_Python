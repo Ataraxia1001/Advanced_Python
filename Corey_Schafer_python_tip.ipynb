{
  "nbformat": 4,
  "nbformat_minor": 0,
  "metadata": {
    "colab": {
      "provenance": []
    },
    "kernelspec": {
      "name": "python3",
      "display_name": "Python 3"
    },
    "language_info": {
      "name": "python"
    }
  },
  "cells": [
    {
      "cell_type": "markdown",
      "source": [
        "1. Ternary Conditionals"
      ],
      "metadata": {
        "id": "QB1NOe2RW8AZ"
      }
    },
    {
      "cell_type": "code",
      "execution_count": 1,
      "metadata": {
        "colab": {
          "base_uri": "https://localhost:8080/"
        },
        "id": "WEk6Hr1EWqLX",
        "outputId": "9e8ef780-4524-4fe9-b249-caec274b5389"
      },
      "outputs": [
        {
          "output_type": "stream",
          "name": "stdout",
          "text": [
            "1\n"
          ]
        }
      ],
      "source": [
        "condition = True\n",
        "\n",
        "if condition:\n",
        "  x = 1\n",
        "else:\n",
        "  x = 0\n",
        "\n",
        "print(x)"
      ]
    },
    {
      "cell_type": "code",
      "source": [
        "# easier to read\n",
        "x = 1 if condition else 0\n",
        "print(x)"
      ],
      "metadata": {
        "colab": {
          "base_uri": "https://localhost:8080/"
        },
        "id": "bnY5AL26W4Sa",
        "outputId": "03293895-0d8c-484a-c43d-a624dcc51ef1"
      },
      "execution_count": 2,
      "outputs": [
        {
          "output_type": "stream",
          "name": "stdout",
          "text": [
            "1\n"
          ]
        }
      ]
    },
    {
      "cell_type": "markdown",
      "source": [
        "2. easy way to read number"
      ],
      "metadata": {
        "id": "pSLAzMVaYN64"
      }
    },
    {
      "cell_type": "code",
      "source": [
        "# easy way to read large number\n",
        "num1 = 10_000_000_000 # _ is ignored in running\n",
        "num2 = 100_000_000\n",
        "total = num1 + num2\n",
        "print(total)\n",
        "print(f'{total:,}') # print ',' in number"
      ],
      "metadata": {
        "colab": {
          "base_uri": "https://localhost:8080/"
        },
        "id": "SvqfdhhjW4d6",
        "outputId": "18a78a01-eecc-471b-f071-253f20d76f39"
      },
      "execution_count": 7,
      "outputs": [
        {
          "output_type": "stream",
          "name": "stdout",
          "text": [
            "10100000000\n",
            "10,100,000,000\n"
          ]
        }
      ]
    },
    {
      "cell_type": "markdown",
      "source": [
        "3. context manager"
      ],
      "metadata": {
        "id": "aup4l39DYLEq"
      }
    },
    {
      "cell_type": "code",
      "source": [
        "f = open('test.txt', 'r')\n",
        "file_contents = f.read()\n",
        "f.close() # tired to open and close everytime\n",
        "\n",
        "words = file_contents.split(' ')\n",
        "word_count = len(words)\n",
        "print(word_count)"
      ],
      "metadata": {
        "id": "JC5C-8T4XZnv"
      },
      "execution_count": null,
      "outputs": []
    },
    {
      "cell_type": "code",
      "source": [
        "# better way\n",
        "with open('test.txt', 'r') as f:\n",
        "  file_contents = f.read()\n",
        "\n",
        "words = file_contents.split(' ')\n",
        "word_count = len(words)\n",
        "print(word_count)"
      ],
      "metadata": {
        "id": "MIgeKYsoX_bQ"
      },
      "execution_count": null,
      "outputs": []
    },
    {
      "cell_type": "markdown",
      "source": [
        "4. enumerate function"
      ],
      "metadata": {
        "id": "NpYJn2rjZI3S"
      }
    },
    {
      "cell_type": "code",
      "source": [
        "names = ['Corey', 'Chris', 'Dave', 'Travis']\n",
        "index = 0\n",
        "for name in names:\n",
        "  print(index, name)\n",
        "  index += 1"
      ],
      "metadata": {
        "colab": {
          "base_uri": "https://localhost:8080/"
        },
        "id": "IVB1zsAlZjdl",
        "outputId": "c3fcfabb-adb1-4a59-be33-836e8a0df0b6"
      },
      "execution_count": 10,
      "outputs": [
        {
          "output_type": "stream",
          "name": "stdout",
          "text": [
            "0 Corey\n",
            "1 Chris\n",
            "2 Dave\n",
            "3 Travis\n"
          ]
        }
      ]
    },
    {
      "cell_type": "code",
      "source": [
        "# better way\n",
        "for index, name in enumerate(names, start=1):\n",
        "  print(index, name)"
      ],
      "metadata": {
        "colab": {
          "base_uri": "https://localhost:8080/"
        },
        "id": "RxIfMPJoZjXn",
        "outputId": "dd71b2ae-f163-467f-b32b-1cf736049572"
      },
      "execution_count": 12,
      "outputs": [
        {
          "output_type": "stream",
          "name": "stdout",
          "text": [
            "1 Corey\n",
            "2 Chris\n",
            "3 Dave\n",
            "4 Travis\n"
          ]
        }
      ]
    },
    {
      "cell_type": "code",
      "source": [
        "name = ['Peter Parker', 'Clark Kent', 'Wade Wilson', 'Bruce Wayne']\n",
        "heroes = ['Spiderman', 'Superman', 'Deadpool', 'Batman']\n",
        "universes = ['Marvel', 'DC', 'Marvel', 'DC']\n",
        "\n",
        "# loop over two lists\n",
        "for index, name in enumerate(names):\n",
        "  hero = heroes[index]\n",
        "  print(f'{name} is actually {hero}')"
      ],
      "metadata": {
        "colab": {
          "base_uri": "https://localhost:8080/"
        },
        "id": "Eygu2pI0aVMG",
        "outputId": "4383279d-2c9e-4a3d-a781-fc6ebdd0a50d"
      },
      "execution_count": 17,
      "outputs": [
        {
          "output_type": "stream",
          "name": "stdout",
          "text": [
            "Corey is actually Spiderman\n",
            "Chris is actually Superman\n",
            "Dave is actually Deadpool\n",
            "Travis is actually Batman\n"
          ]
        }
      ]
    },
    {
      "cell_type": "markdown",
      "source": [
        "5. zip function"
      ],
      "metadata": {
        "id": "Dey_WveSZKrR"
      }
    },
    {
      "cell_type": "code",
      "source": [
        "# better way to loop over two lists\n",
        "for name, hero in zip(names, heroes):\n",
        "  print(f'{name} is actually {hero}')"
      ],
      "metadata": {
        "colab": {
          "base_uri": "https://localhost:8080/"
        },
        "id": "Z-Ggsm1GZXha",
        "outputId": "8ca3e407-5499-4b4b-cf05-05c8f1f61591"
      },
      "execution_count": 15,
      "outputs": [
        {
          "output_type": "stream",
          "name": "stdout",
          "text": [
            "Corey is actually Spiderman\n",
            "Chris is actually Superman\n",
            "Dave is actually Deadpool\n",
            "Travis is actually Batman\n"
          ]
        }
      ]
    },
    {
      "cell_type": "code",
      "source": [
        "# better way to loop over three lists\n",
        "for name, hero, universe in zip(names, heroes, universes):\n",
        "  print(f'{name} is actually {hero} from {universe}')"
      ],
      "metadata": {
        "colab": {
          "base_uri": "https://localhost:8080/"
        },
        "id": "G04wDuICbYZC",
        "outputId": "b3e488c3-7d03-416a-a720-376c92571e85"
      },
      "execution_count": 18,
      "outputs": [
        {
          "output_type": "stream",
          "name": "stdout",
          "text": [
            "Corey is actually Spiderman from Marvel\n",
            "Chris is actually Superman from DC\n",
            "Dave is actually Deadpool from Marvel\n",
            "Travis is actually Batman from DC\n"
          ]
        }
      ]
    },
    {
      "cell_type": "markdown",
      "source": [
        "6. unpacking tuples (use asterisk and underscore)"
      ],
      "metadata": {
        "id": "RIHI2_MUZNH_"
      }
    },
    {
      "cell_type": "code",
      "source": [
        "for value in zip(names, heroes, universes):\n",
        "  print(value)"
      ],
      "metadata": {
        "colab": {
          "base_uri": "https://localhost:8080/"
        },
        "id": "gFOhu-wobvR9",
        "outputId": "1e4bda14-81e9-433d-ebeb-fc4cfc0f7c52"
      },
      "execution_count": 19,
      "outputs": [
        {
          "output_type": "stream",
          "name": "stdout",
          "text": [
            "('Corey', 'Spiderman', 'Marvel')\n",
            "('Chris', 'Superman', 'DC')\n",
            "('Dave', 'Deadpool', 'Marvel')\n",
            "('Travis', 'Batman', 'DC')\n"
          ]
        }
      ]
    },
    {
      "cell_type": "code",
      "source": [
        "a, _ = (1, 2)\n",
        "print(a)\n",
        "#print(b)"
      ],
      "metadata": {
        "colab": {
          "base_uri": "https://localhost:8080/"
        },
        "id": "XFwvRYlxbvHd",
        "outputId": "2e2580ef-c645-47ae-ce79-efa192103283"
      },
      "execution_count": 21,
      "outputs": [
        {
          "output_type": "stream",
          "name": "stdout",
          "text": [
            "1\n"
          ]
        }
      ]
    },
    {
      "cell_type": "code",
      "source": [
        "a, b, c = (1, 2)\n",
        "print(a)"
      ],
      "metadata": {
        "colab": {
          "base_uri": "https://localhost:8080/",
          "height": 191
        },
        "id": "hImQFLlFbvEV",
        "outputId": "ec0b8a16-560b-47d6-d4bb-95b356292894"
      },
      "execution_count": 22,
      "outputs": [
        {
          "output_type": "error",
          "ename": "ValueError",
          "evalue": "ignored",
          "traceback": [
            "\u001b[0;31m---------------------------------------------------------------------------\u001b[0m",
            "\u001b[0;31mValueError\u001b[0m                                Traceback (most recent call last)",
            "\u001b[0;32m<ipython-input-22-c10379f7fcfb>\u001b[0m in \u001b[0;36m<cell line: 1>\u001b[0;34m()\u001b[0m\n\u001b[0;32m----> 1\u001b[0;31m \u001b[0ma\u001b[0m\u001b[0;34m,\u001b[0m \u001b[0mb\u001b[0m\u001b[0;34m,\u001b[0m \u001b[0mc\u001b[0m \u001b[0;34m=\u001b[0m \u001b[0;34m(\u001b[0m\u001b[0;36m1\u001b[0m\u001b[0;34m,\u001b[0m \u001b[0;36m2\u001b[0m\u001b[0;34m)\u001b[0m\u001b[0;34m\u001b[0m\u001b[0;34m\u001b[0m\u001b[0m\n\u001b[0m\u001b[1;32m      2\u001b[0m \u001b[0mprint\u001b[0m\u001b[0;34m(\u001b[0m\u001b[0ma\u001b[0m\u001b[0;34m)\u001b[0m\u001b[0;34m\u001b[0m\u001b[0;34m\u001b[0m\u001b[0m\n",
            "\u001b[0;31mValueError\u001b[0m: not enough values to unpack (expected 3, got 2)"
          ]
        }
      ]
    },
    {
      "cell_type": "code",
      "source": [
        "a, b, c = (1, 2, 3, 4, 5)\n",
        "print(a)"
      ],
      "metadata": {
        "colab": {
          "base_uri": "https://localhost:8080/",
          "height": 191
        },
        "id": "7ti1AcTwcezj",
        "outputId": "316d2f01-fb91-4d76-c54b-d3dbbe340569"
      },
      "execution_count": 23,
      "outputs": [
        {
          "output_type": "error",
          "ename": "ValueError",
          "evalue": "ignored",
          "traceback": [
            "\u001b[0;31m---------------------------------------------------------------------------\u001b[0m",
            "\u001b[0;31mValueError\u001b[0m                                Traceback (most recent call last)",
            "\u001b[0;32m<ipython-input-23-ae0c492dd267>\u001b[0m in \u001b[0;36m<cell line: 1>\u001b[0;34m()\u001b[0m\n\u001b[0;32m----> 1\u001b[0;31m \u001b[0ma\u001b[0m\u001b[0;34m,\u001b[0m \u001b[0mb\u001b[0m\u001b[0;34m,\u001b[0m \u001b[0mc\u001b[0m \u001b[0;34m=\u001b[0m \u001b[0;34m(\u001b[0m\u001b[0;36m1\u001b[0m\u001b[0;34m,\u001b[0m \u001b[0;36m2\u001b[0m\u001b[0;34m,\u001b[0m \u001b[0;36m3\u001b[0m\u001b[0;34m,\u001b[0m \u001b[0;36m4\u001b[0m\u001b[0;34m,\u001b[0m \u001b[0;36m5\u001b[0m\u001b[0;34m)\u001b[0m\u001b[0;34m\u001b[0m\u001b[0;34m\u001b[0m\u001b[0m\n\u001b[0m\u001b[1;32m      2\u001b[0m \u001b[0mprint\u001b[0m\u001b[0;34m(\u001b[0m\u001b[0ma\u001b[0m\u001b[0;34m)\u001b[0m\u001b[0;34m\u001b[0m\u001b[0;34m\u001b[0m\u001b[0m\n",
            "\u001b[0;31mValueError\u001b[0m: too many values to unpack (expected 3)"
          ]
        }
      ]
    },
    {
      "cell_type": "code",
      "source": [
        "a, b, *c = (1, 2, 3, 4, 5)\n",
        "print(a)\n",
        "print(b)\n",
        "print(c) # *c is all rest elements"
      ],
      "metadata": {
        "colab": {
          "base_uri": "https://localhost:8080/"
        },
        "id": "nOwSwHzzcexG",
        "outputId": "f9ff45bd-8707-4113-f5f8-77ea90463356"
      },
      "execution_count": 25,
      "outputs": [
        {
          "output_type": "stream",
          "name": "stdout",
          "text": [
            "1\n",
            "2\n",
            "[3, 4, 5]\n"
          ]
        }
      ]
    },
    {
      "cell_type": "code",
      "source": [
        "a, b, *_ = (1, 2, 3, 4, 5)\n",
        "print(a)\n",
        "print(b)\n",
        "#print(c) # *_ : rest is not used"
      ],
      "metadata": {
        "id": "gmNMbb2Pc32H"
      },
      "execution_count": null,
      "outputs": []
    },
    {
      "cell_type": "code",
      "source": [
        "a, b, *c, d = (1, 2, 3, 4, 5, 6, 7)\n",
        "print(a)\n",
        "print(b)\n",
        "print(c) # *c is all elements before d\n",
        "print(d)"
      ],
      "metadata": {
        "colab": {
          "base_uri": "https://localhost:8080/"
        },
        "id": "os1BeJMDceuY",
        "outputId": "e2b52d3a-68ad-4975-a111-34db94e4ea0f"
      },
      "execution_count": 28,
      "outputs": [
        {
          "output_type": "stream",
          "name": "stdout",
          "text": [
            "1\n",
            "2\n",
            "[3, 4, 5, 6]\n",
            "7\n"
          ]
        }
      ]
    },
    {
      "cell_type": "code",
      "source": [
        "a, b, *c, d = (1, 2, 3, 4, 5, 6, 7)\n",
        "print(a)\n",
        "print(b)\n",
        "print(c) # *c is all elements before d\n",
        "print(d)"
      ],
      "metadata": {
        "id": "rUkWJY5adWAK"
      },
      "execution_count": null,
      "outputs": []
    },
    {
      "cell_type": "code",
      "source": [
        "a, b, *_, d = (1, 2, 3, 4, 5, 6, 7)\n",
        "print(a)\n",
        "print(b)\n",
        "#print(c) # *_ is all elements before d\n",
        "print(d)"
      ],
      "metadata": {
        "colab": {
          "base_uri": "https://localhost:8080/"
        },
        "id": "a92jVSncdV41",
        "outputId": "d9793ec7-6aa1-4c1c-dde9-0de92047419e"
      },
      "execution_count": 30,
      "outputs": [
        {
          "output_type": "stream",
          "name": "stdout",
          "text": [
            "1\n",
            "2\n",
            "7\n"
          ]
        }
      ]
    },
    {
      "cell_type": "markdown",
      "source": [
        "7. getting and setting attributes to object  (setattr, getattr )"
      ],
      "metadata": {
        "id": "YFrVN3YaZQD4"
      }
    },
    {
      "cell_type": "code",
      "source": [
        "class Person():\n",
        "  pass\n",
        "\n",
        "person = Person()"
      ],
      "metadata": {
        "id": "uDq-IhWJbvxk"
      },
      "execution_count": 31,
      "outputs": []
    },
    {
      "cell_type": "code",
      "source": [
        "person.first = \"Corey\"\n",
        "person.last = \"Schafer\"\n",
        "print(person.first)\n",
        "print(person.last)"
      ],
      "metadata": {
        "colab": {
          "base_uri": "https://localhost:8080/"
        },
        "id": "6Xk53nCYbvu7",
        "outputId": "a0d445de-39b8-4183-c001-e2cdff2a65bc"
      },
      "execution_count": 32,
      "outputs": [
        {
          "output_type": "stream",
          "name": "stdout",
          "text": [
            "Corey\n",
            "Schafer\n"
          ]
        }
      ]
    },
    {
      "cell_type": "code",
      "source": [
        "# better way\n",
        "first_key = 'first'\n",
        "first_val = 'Corey'\n",
        "setattr(person, first_key, first_val)\n",
        "first = getattr(person, first_key)\n",
        "print(first) # print first_val"
      ],
      "metadata": {
        "colab": {
          "base_uri": "https://localhost:8080/"
        },
        "id": "qbFAAyJxbvsp",
        "outputId": "97468347-ab4c-42d8-f9cd-3d9a0e5879ed"
      },
      "execution_count": 40,
      "outputs": [
        {
          "output_type": "stream",
          "name": "stdout",
          "text": [
            "Corey\n"
          ]
        }
      ]
    },
    {
      "cell_type": "code",
      "source": [
        "# usage (useful, if there are a lot of elements in dictionary)\n",
        "person_info = {'first': 'Corey', 'last':'Schafer'}\n",
        "\n",
        "for key, value in person_info.items():\n",
        "  setattr(person, key, value)\n",
        "\n",
        "for key in person_info.keys():\n",
        "  print(getattr(person, key))"
      ],
      "metadata": {
        "colab": {
          "base_uri": "https://localhost:8080/"
        },
        "id": "ulp8GrUVeQUM",
        "outputId": "d78844ab-3b94-4180-c9da-5c98bfbd9a2a"
      },
      "execution_count": 44,
      "outputs": [
        {
          "output_type": "stream",
          "name": "stdout",
          "text": [
            "Corey\n",
            "Schafer\n"
          ]
        }
      ]
    },
    {
      "cell_type": "markdown",
      "source": [
        "8.  getpass instead input (read from keyboard)"
      ],
      "metadata": {
        "id": "vSR05snPZUgS"
      }
    },
    {
      "cell_type": "code",
      "source": [
        "username = input('Username: ')\n",
        "password = input('Password: ')\n",
        "print('Logging In...')"
      ],
      "metadata": {
        "colab": {
          "base_uri": "https://localhost:8080/"
        },
        "id": "wTYgsBVzZYSQ",
        "outputId": "b42cac03-0c15-4639-fbeb-db7f54494bcb"
      },
      "execution_count": 49,
      "outputs": [
        {
          "output_type": "stream",
          "name": "stdout",
          "text": [
            "Username: adam\n",
            "Password: smith\n",
            "Logging In...\n"
          ]
        }
      ]
    },
    {
      "cell_type": "code",
      "source": [
        "# open terminal\n",
        "# python password.py"
      ],
      "metadata": {
        "id": "wuPgw7z_gxGh"
      },
      "execution_count": null,
      "outputs": []
    },
    {
      "cell_type": "code",
      "source": [
        "from getpass import getpass\n",
        "username = input('Username: ')\n",
        "password = getpass('Password: ') # hide password during typing\n",
        "print('Logging In...')"
      ],
      "metadata": {
        "colab": {
          "base_uri": "https://localhost:8080/"
        },
        "id": "Vg3Xz3HOg8uu",
        "outputId": "8b3970ae-9054-4aee-d2a3-135d8ef2c21d"
      },
      "execution_count": 46,
      "outputs": [
        {
          "output_type": "stream",
          "name": "stdout",
          "text": [
            "Username: adam\n",
            "Password: ··········\n",
            "Logging In...\n"
          ]
        }
      ]
    },
    {
      "cell_type": "markdown",
      "source": [
        "9. run python with dash m in terminal (python -m ...)"
      ],
      "metadata": {
        "id": "6kGdK8m-ZU1I"
      }
    },
    {
      "cell_type": "code",
      "source": [
        "# open terminal\n",
        "# python -m password  (.py is not needed)"
      ],
      "metadata": {
        "id": "ebOkdAaabwXF"
      },
      "execution_count": null,
      "outputs": []
    },
    {
      "cell_type": "markdown",
      "source": [
        "10. built-in functions (help, dir etc)"
      ],
      "metadata": {
        "id": "TXH4mSr0ZVah"
      }
    },
    {
      "cell_type": "code",
      "source": [
        "# see the video(work in terminal)"
      ],
      "metadata": {
        "id": "tRrZ9H66ZRiL"
      },
      "execution_count": null,
      "outputs": []
    }
  ]
}